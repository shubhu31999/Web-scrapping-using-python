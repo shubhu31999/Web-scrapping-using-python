{
 "cells": [
  {
   "cell_type": "markdown",
   "id": "5e797fc3",
   "metadata": {},
   "source": [
    "## Web Scraping"
   ]
  },
  {
   "cell_type": "markdown",
   "id": "36865f59",
   "metadata": {},
   "source": [
    "## Importing all the necessary liaberaries."
   ]
  },
  {
   "cell_type": "code",
   "execution_count": 167,
   "id": "d2305ba3",
   "metadata": {},
   "outputs": [],
   "source": [
    "import pandas as pd\n",
    "import numpy as np\n",
    "import matplotlib as plt\n",
    "from csv import writer\n"
   ]
  },
  {
   "cell_type": "markdown",
   "id": "b1c748d8",
   "metadata": {},
   "source": [
    "##  Step 1- Get the HTML"
   ]
  },
  {
   "cell_type": "code",
   "execution_count": 168,
   "id": "312a1260",
   "metadata": {},
   "outputs": [],
   "source": [
    "import requests,openpyxl\n",
    "from bs4 import BeautifulSoup\n",
    "url='https://www.pararius.com/apartments/amsterdam'"
   ]
  },
  {
   "cell_type": "code",
   "execution_count": 169,
   "id": "8c292f1a",
   "metadata": {},
   "outputs": [
    {
     "name": "stdout",
     "output_type": "stream",
     "text": [
      "<Response [200]>\n"
     ]
    }
   ],
   "source": [
    "source=requests.get(url)\n",
    "print(source)"
   ]
  },
  {
   "cell_type": "markdown",
   "id": "9cc009e4",
   "metadata": {},
   "source": [
    "## step 2 - Parse the HTML"
   ]
  },
  {
   "cell_type": "code",
   "execution_count": 170,
   "id": "00f2a74d",
   "metadata": {},
   "outputs": [],
   "source": [
    "soup=BeautifulSoup(source.content,\"html.parser\")"
   ]
  },
  {
   "cell_type": "code",
   "execution_count": 171,
   "id": "6d368bae",
   "metadata": {},
   "outputs": [],
   "source": [
    "#soup.prettify()"
   ]
  },
  {
   "cell_type": "markdown",
   "id": "aecfbad1",
   "metadata": {},
   "source": [
    "## Find all paras and iterating through them."
   ]
  },
  {
   "cell_type": "code",
   "execution_count": 172,
   "id": "f01dcd13",
   "metadata": {},
   "outputs": [],
   "source": [
    "housing_item=soup.find_all('section',class_='listing-search-item')\n",
    "#print(housing_item)\n",
    "with open(\"Apartment for sale\",\"w\",encoding=\"utf8\",newline='')as f:\n",
    "    thewriter=writer(f)\n",
    "    header=['Title',\"Location\",'Price','Area',\"Link\"]\n",
    "    thewriter.writerow(header)\n",
    "    for i in housing_item:\n",
    "        title=i.find('h2',class_=\"listing-search-item__title\").text.strip()\n",
    "        location=i.find('div',class_=\"listing-search-item__sub-title\").text.strip()\n",
    "        price=i.find('div',class_=\"listing-search-item__price\").text.strip()\n",
    "        area=i.find('li',class_=\"illustrated-features__item illustrated-features__item--surface-area\").text.strip()\n",
    "        link=\"https://www.pararius.com\"+i.find(\"a\").get(\"href\").strip()\n",
    "        info=[title,location,price,area,link]\n",
    "        thewriter.writerow(info)\n",
    "    \n",
    "    \n",
    "   "
   ]
  },
  {
   "cell_type": "markdown",
   "id": "4846bd87",
   "metadata": {},
   "source": [
    "## Operation to get all the link in the particukar page"
   ]
  },
  {
   "cell_type": "code",
   "execution_count": 151,
   "id": "d7e33e83",
   "metadata": {},
   "outputs": [],
   "source": [
    "anchor=soup.find_all('h2',class_=\"listing-search-item__title\")\n",
    "#print(anchor)\n",
    "for link in anchor:\n",
    "    linktext='https://www.pararius.com'+link.find('a').get(\"href\")\n",
    "    #print(linktext)"
   ]
  },
  {
   "cell_type": "markdown",
   "id": "989d13d2",
   "metadata": {},
   "source": [
    "## Thanks you and don't forget you are awesome"
   ]
  }
 ],
 "metadata": {
  "kernelspec": {
   "display_name": "Python 3 (ipykernel)",
   "language": "python",
   "name": "python3"
  },
  "language_info": {
   "codemirror_mode": {
    "name": "ipython",
    "version": 3
   },
   "file_extension": ".py",
   "mimetype": "text/x-python",
   "name": "python",
   "nbconvert_exporter": "python",
   "pygments_lexer": "ipython3",
   "version": "3.9.12"
  }
 },
 "nbformat": 4,
 "nbformat_minor": 5
}
